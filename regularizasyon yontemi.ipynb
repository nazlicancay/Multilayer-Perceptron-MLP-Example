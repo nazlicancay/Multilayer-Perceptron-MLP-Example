{
 "cells": [
  {
   "cell_type": "code",
   "execution_count": 21,
   "id": "9d0257da",
   "metadata": {},
   "outputs": [],
   "source": [
    "import torch\n",
    "import torch.nn as nn\n",
    "from sklearn.metrics import f1_score, precision_score, recall_score\n",
    "import torch.optim as optim\n",
    "from torch.utils.data import Dataset, DataLoader\n",
    "import pandas as pd\n",
    "import numpy as np"
   ]
  },
  {
   "cell_type": "code",
   "execution_count": 22,
   "id": "0f369a24",
   "metadata": {},
   "outputs": [],
   "source": [
    "class MyDataset(Dataset):\n",
    "    def __init__(self, file_path):\n",
    "        self.data = pd.read_csv(file_path)\n",
    "        self.x = np.array(self.data.iloc[:, :-1])\n",
    "        self.y = np.array(self.data.iloc[:, -1])\n",
    "        \n",
    "    def __getitem__(self, index):\n",
    "        return torch.tensor(self.x[index], dtype=torch.float32), torch.tensor(self.y[index], dtype=torch.long)\n",
    "        \n",
    "    def __len__(self):\n",
    "        return len(self.data)\n"
   ]
  },
  {
   "cell_type": "code",
   "execution_count": 23,
   "id": "6a3241e5",
   "metadata": {},
   "outputs": [],
   "source": [
    "model = MLP()\n",
    "loss_fn = nn.CrossEntropyLoss()\n",
    "optimizer = optim.SGD(model.parameters(), lr=0.01)"
   ]
  },
  {
   "cell_type": "code",
   "execution_count": null,
   "id": "b8153931",
   "metadata": {},
   "outputs": [],
   "source": [
    "# L2 Regülerizasyonu (Weight Decay):\n"
   ]
  },
  {
   "cell_type": "code",
   "execution_count": 24,
   "id": "65e944ed",
   "metadata": {},
   "outputs": [],
   "source": [
    "class MLP(nn.Module):\n",
    "    def __init__(self):\n",
    "        super(MLP, self).__init__()\n",
    "        self.fc1 = nn.Linear(13, 100)\n",
    "        self.fc2 = nn.Linear(100, 50)\n",
    "        self.fc3 = nn.Linear(50, 2)\n",
    "        \n",
    "    def forward(self, x):\n",
    "        x = nn.functional.relu(self.fc1(x))\n",
    "        x = nn.functional.relu(self.fc2(x))\n",
    "        x = nn.functional.sigmoid(self.fc3(x))\n",
    "        return x\n",
    "    \n",
    "# L2 Regülerizasyonu\n",
    "l2_reg = 0.01\n",
    "for param in model.parameters():\n",
    "    param.data -= l2_reg * param.data.norm(2)"
   ]
  },
  {
   "cell_type": "code",
   "execution_count": 25,
   "id": "e3b69582",
   "metadata": {},
   "outputs": [],
   "source": [
    "train_dataset = MyDataset('cure_the_princess_train.csv')\n",
    "val_dataset = MyDataset('cure_the_princess_validation.csv')\n",
    "test_dataset = MyDataset('cure_the_princess_test.csv')\n"
   ]
  },
  {
   "cell_type": "code",
   "execution_count": 26,
   "id": "c110058b",
   "metadata": {},
   "outputs": [],
   "source": [
    "batch_size = 16\n",
    "train_dataloader = DataLoader(train_dataset, batch_size=batch_size, shuffle=True)\n",
    "val_dataloader = DataLoader(val_dataset, batch_size=batch_size, shuffle=False)\n",
    "test_dataloader = DataLoader(test_dataset, batch_size=batch_size, shuffle=False)"
   ]
  },
  {
   "cell_type": "code",
   "execution_count": 27,
   "id": "5432f95a",
   "metadata": {},
   "outputs": [],
   "source": [
    "def train(model, train_dataloader, optimizer, loss_fn):\n",
    "    model.train()\n",
    "    for batch, (data, target) in enumerate(train_dataloader):\n",
    "        optimizer.zero_grad()\n",
    "        output = model(data)\n",
    "        loss = loss_fn(output, target)\n",
    "        loss.backward()\n",
    "        optimizer.step()\n"
   ]
  },
  {
   "cell_type": "code",
   "execution_count": 28,
   "id": "ef580c08",
   "metadata": {},
   "outputs": [],
   "source": [
    "def evaluate(model, val_dataloader):\n",
    "    model.eval()\n",
    "    correct = 0\n",
    "    total = 0\n",
    "    with torch.no_grad():\n",
    "        for data, target in val_dataloader:\n",
    "            output = model(data)\n",
    "            _, predicted = torch.max(output.data, 1)\n",
    "            total += target.size(0)\n",
    "            correct += (predicted == target).sum().item()\n",
    "    return 100 * correct / total\n"
   ]
  },
  {
   "cell_type": "code",
   "execution_count": 29,
   "id": "79fc085f",
   "metadata": {},
   "outputs": [
    {
     "name": "stdout",
     "output_type": "stream",
     "text": [
      "Epoch: 1 | Validation Accuracy: 49.681528662420384\n",
      "Epoch: 2 | Validation Accuracy: 49.681528662420384\n",
      "Epoch: 3 | Validation Accuracy: 49.681528662420384\n",
      "Epoch: 4 | Validation Accuracy: 49.681528662420384\n",
      "Epoch: 5 | Validation Accuracy: 49.681528662420384\n",
      "Epoch: 6 | Validation Accuracy: 49.681528662420384\n",
      "Epoch: 7 | Validation Accuracy: 49.681528662420384\n",
      "Epoch: 8 | Validation Accuracy: 51.910828025477706\n",
      "Epoch: 9 | Validation Accuracy: 64.64968152866243\n",
      "Epoch: 10 | Validation Accuracy: 72.61146496815287\n"
     ]
    }
   ],
   "source": [
    "for epoch in range(10):\n",
    "    train(model, train_dataloader, optimizer, loss_fn)\n",
    "    acc = evaluate(model, val_dataloader)\n",
    "    print('Epoch:', epoch+1, '| Validation Accuracy:', acc)"
   ]
  },
  {
   "cell_type": "code",
   "execution_count": 20,
   "id": "525f21aa",
   "metadata": {},
   "outputs": [
    {
     "name": "stdout",
     "output_type": "stream",
     "text": [
      "Test Accuracy: 50.259067357512954\n"
     ]
    }
   ],
   "source": [
    "test_acc = evaluate(model, test_dataloader)\n",
    "print('Test Accuracy:', test_acc)"
   ]
  },
  {
   "cell_type": "code",
   "execution_count": null,
   "id": "abc9662d",
   "metadata": {},
   "outputs": [],
   "source": [
    "# Dropout Regülerizasyonu"
   ]
  },
  {
   "cell_type": "code",
   "execution_count": 30,
   "id": "b10b803c",
   "metadata": {},
   "outputs": [],
   "source": [
    "class MLP(nn.Module):\n",
    "    def __init__(self):\n",
    "        super(MLP, self).__init__()\n",
    "        self.fc1 = nn.Linear(13, 100)\n",
    "        self.dropout1 = nn.Dropout(p=0.5)\n",
    "        self.fc2 = nn.Linear(100, 50)\n",
    "        self.dropout2 = nn.Dropout(p=0.5)\n",
    "        self.fc3 = nn.Linear(50, 2)\n",
    "        \n",
    "    def forward(self, x):\n",
    "        x = nn.functional.relu(self.fc1(x))\n",
    "        x = self.dropout1(x)\n",
    "        x = nn.functional.relu(self.fc2(x))\n",
    "        x = self.dropout2(x)\n",
    "        x = nn.functional.sigmoid(self.fc3(x))\n",
    "        return x"
   ]
  },
  {
   "cell_type": "code",
   "execution_count": 31,
   "id": "88457456",
   "metadata": {},
   "outputs": [
    {
     "name": "stdout",
     "output_type": "stream",
     "text": [
      "Epoch: 1 | Validation Accuracy: 77.38853503184713\n",
      "Epoch: 2 | Validation Accuracy: 80.89171974522293\n",
      "Epoch: 3 | Validation Accuracy: 85.03184713375796\n",
      "Epoch: 4 | Validation Accuracy: 87.57961783439491\n",
      "Epoch: 5 | Validation Accuracy: 89.80891719745223\n",
      "Epoch: 6 | Validation Accuracy: 91.71974522292993\n",
      "Epoch: 7 | Validation Accuracy: 92.03821656050955\n",
      "Epoch: 8 | Validation Accuracy: 89.171974522293\n",
      "Epoch: 9 | Validation Accuracy: 91.0828025477707\n",
      "Epoch: 10 | Validation Accuracy: 91.0828025477707\n"
     ]
    }
   ],
   "source": [
    "for epoch in range(10):\n",
    "    train(model, train_dataloader, optimizer, loss_fn)\n",
    "    acc = evaluate(model, val_dataloader)\n",
    "    print('Epoch:', epoch+1, '| Validation Accuracy:', acc)"
   ]
  },
  {
   "cell_type": "code",
   "execution_count": 32,
   "id": "2fbd3fad",
   "metadata": {},
   "outputs": [
    {
     "name": "stdout",
     "output_type": "stream",
     "text": [
      "Test Accuracy: 88.08290155440415\n"
     ]
    }
   ],
   "source": [
    "test_acc = evaluate(model, test_dataloader)\n",
    "print('Test Accuracy:', test_acc)"
   ]
  },
  {
   "cell_type": "code",
   "execution_count": null,
   "id": "aaefb79f",
   "metadata": {},
   "outputs": [],
   "source": []
  }
 ],
 "metadata": {
  "kernelspec": {
   "display_name": "Python 3 (ipykernel)",
   "language": "python",
   "name": "python3"
  },
  "language_info": {
   "codemirror_mode": {
    "name": "ipython",
    "version": 3
   },
   "file_extension": ".py",
   "mimetype": "text/x-python",
   "name": "python",
   "nbconvert_exporter": "python",
   "pygments_lexer": "ipython3",
   "version": "3.10.6"
  }
 },
 "nbformat": 4,
 "nbformat_minor": 5
}
