{
 "cells": [
  {
   "cell_type": "code",
   "execution_count": 51,
   "id": "889373b8",
   "metadata": {},
   "outputs": [],
   "source": [
    "# kullanacağımız kütüphaneleri import edelim\n",
    "import torch \n",
    "import torch.nn as nn\n",
    "import torch.optim as optim\n",
    "from torch.utils.data import Dataset, DataLoader\n",
    "import pandas as pd\n",
    "import numpy as np"
   ]
  },
  {
   "cell_type": "code",
   "execution_count": 52,
   "id": "5cf2175f",
   "metadata": {},
   "outputs": [],
   "source": [
    "# Veri yüklemek için sınıf oluşturuyoruz"
   ]
  },
  {
   "cell_type": "code",
   "execution_count": 53,
   "id": "b51224ad",
   "metadata": {},
   "outputs": [],
   "source": [
    "class MyDataset(Dataset):\n",
    "    def __init__(self, file_path):\n",
    "        self.data = pd.read_csv(file_path)\n",
    "        self.x = np.array(self.data.iloc[:, :-1])\n",
    "        self.y = np.array(self.data.iloc[:, -1])\n",
    "        \n",
    "    def __getitem__(self, index):\n",
    "        return torch.tensor(self.x[index], dtype=torch.float32), torch.tensor(self.y[index], dtype=torch.long)\n",
    "        \n",
    "    def __len__(self):\n",
    "        return len(self.data)\n",
    "\n"
   ]
  },
  {
   "cell_type": "code",
   "execution_count": 54,
   "id": "1c73ce13",
   "metadata": {},
   "outputs": [],
   "source": [
    "# Veri yüklüyoruz "
   ]
  },
  {
   "cell_type": "code",
   "execution_count": 55,
   "id": "e1710ffc",
   "metadata": {},
   "outputs": [],
   "source": [
    "train_dataset = MyDataset('cure_the_princess_train.csv')\n",
    "val_dataset = MyDataset('cure_the_princess_validation.csv')\n",
    "test_dataset = MyDataset('cure_the_princess_test.csv')"
   ]
  },
  {
   "cell_type": "code",
   "execution_count": 56,
   "id": "117654d9",
   "metadata": {},
   "outputs": [],
   "source": [
    "# DataLoaderları oluşturalım"
   ]
  },
  {
   "cell_type": "code",
   "execution_count": 57,
   "id": "54f43c4c",
   "metadata": {},
   "outputs": [],
   "source": [
    "batch_size = 16\n",
    "train_dataloader = DataLoader(train_dataset, batch_size=batch_size, shuffle=True)\n",
    "val_dataloader = DataLoader(val_dataset, batch_size=batch_size, shuffle=False)\n",
    "test_dataloader = DataLoader(test_dataset, batch_size=batch_size, shuffle=False)"
   ]
  },
  {
   "cell_type": "code",
   "execution_count": 58,
   "id": "958b1113",
   "metadata": {},
   "outputs": [],
   "source": [
    "# MLP Modelimizi oluşturalım"
   ]
  },
  {
   "cell_type": "code",
   "execution_count": 63,
   "id": "9718846f",
   "metadata": {},
   "outputs": [],
   "source": [
    "class MLP(nn.Module):\n",
    "    def __init__(self):\n",
    "        super(MLP, self).__init__()\n",
    "        self.fc1 = nn.Linear(13, 100)\n",
    "        self.fc2 = nn.Linear(100, 50)\n",
    "        self.fc3 = nn.Linear(50, 2)\n",
    "        \n",
    "    def forward(self, x):\n",
    "        x = nn.functional.relu(self.fc1(x))\n",
    "        x = nn.functional.relu(self.fc2(x))\n",
    "        x = nn.functional.sigmoid(self.fc3(x))\n",
    "        return x\n"
   ]
  },
  {
   "cell_type": "code",
   "execution_count": 64,
   "id": "52ac7e20",
   "metadata": {},
   "outputs": [],
   "source": [
    "#MLP Modeli, Cross Entropy Loss ve SGD Optimisasyonunu oluşturalım"
   ]
  },
  {
   "cell_type": "code",
   "execution_count": 65,
   "id": "7613e40e",
   "metadata": {},
   "outputs": [],
   "source": [
    "model = MLP()\n",
    "loss_fn = nn.CrossEntropyLoss()\n",
    "optimizer = optim.SGD(model.parameters(), lr=0.01)\n"
   ]
  },
  {
   "cell_type": "code",
   "execution_count": 66,
   "id": "d199d8c0",
   "metadata": {},
   "outputs": [],
   "source": [
    "# Eğitim fonksiyonunumuzu tanımlayalım"
   ]
  },
  {
   "cell_type": "code",
   "execution_count": 67,
   "id": "58d3bd04",
   "metadata": {},
   "outputs": [],
   "source": [
    "def train(model, train_dataloader, optimizer, loss_fn):\n",
    "    model.train()\n",
    "    for batch, (data, target) in enumerate(train_dataloader):\n",
    "        optimizer.zero_grad()\n",
    "        output = model(data)\n",
    "        loss = loss_fn(output, target)\n",
    "        loss.backward()\n",
    "        optimizer.step()\n"
   ]
  },
  {
   "cell_type": "code",
   "execution_count": 68,
   "id": "8ccb9ab8",
   "metadata": {},
   "outputs": [],
   "source": [
    "# Doğrulama fonksiyonumuzu tanımlayalım"
   ]
  },
  {
   "cell_type": "code",
   "execution_count": 69,
   "id": "98fc90d3",
   "metadata": {},
   "outputs": [],
   "source": [
    "def evaluate(model, val_dataloader):\n",
    "    model.eval()\n",
    "    correct = 0\n",
    "    total = 0\n",
    "    with torch.no_grad():\n",
    "        for data, target in val_dataloader:\n",
    "            output = model(data)\n",
    "            _, predicted = torch.max(output.data, 1)\n",
    "            total += target.size(0)\n",
    "            correct += (predicted == target).sum().item()\n",
    "    return 100 * correct / total\n"
   ]
  },
  {
   "cell_type": "code",
   "execution_count": 70,
   "id": "c7ef844d",
   "metadata": {},
   "outputs": [],
   "source": [
    "# Model eğitimi ce doğrulama adımların gerçekleştirelim"
   ]
  },
  {
   "cell_type": "code",
   "execution_count": 71,
   "id": "e053ee60",
   "metadata": {},
   "outputs": [
    {
     "name": "stdout",
     "output_type": "stream",
     "text": [
      "Epoch: 1 | Validation Accuracy: 77.70700636942675\n",
      "Epoch: 2 | Validation Accuracy: 80.2547770700637\n",
      "Epoch: 3 | Validation Accuracy: 82.1656050955414\n",
      "Epoch: 4 | Validation Accuracy: 75.79617834394904\n",
      "Epoch: 5 | Validation Accuracy: 83.12101910828025\n",
      "Epoch: 6 | Validation Accuracy: 92.67515923566879\n",
      "Epoch: 7 | Validation Accuracy: 88.85350318471338\n",
      "Epoch: 8 | Validation Accuracy: 91.40127388535032\n",
      "Epoch: 9 | Validation Accuracy: 92.67515923566879\n",
      "Epoch: 10 | Validation Accuracy: 92.67515923566879\n"
     ]
    }
   ],
   "source": [
    "for epoch in range(10):\n",
    "    train(model, train_dataloader, optimizer, loss_fn)\n",
    "    acc = evaluate(model, val_dataloader)\n",
    "    print('Epoch:', epoch+1, '| Validation Accuracy:', acc)\n"
   ]
  },
  {
   "cell_type": "code",
   "execution_count": 72,
   "id": "2b2dc84f",
   "metadata": {},
   "outputs": [],
   "source": [
    "# Test verileri üzerinde doğruluk değerini hesaplayalım"
   ]
  },
  {
   "cell_type": "code",
   "execution_count": 73,
   "id": "bdad2fd2",
   "metadata": {},
   "outputs": [
    {
     "name": "stdout",
     "output_type": "stream",
     "text": [
      "Test Accuracy: 89.63730569948187\n"
     ]
    }
   ],
   "source": [
    "test_acc = evaluate(model, test_dataloader)\n",
    "print('Test Accuracy:', test_acc)"
   ]
  },
  {
   "cell_type": "code",
   "execution_count": null,
   "id": "47e7bc64",
   "metadata": {},
   "outputs": [],
   "source": []
  },
  {
   "cell_type": "code",
   "execution_count": null,
   "id": "71ab814c",
   "metadata": {},
   "outputs": [],
   "source": []
  }
 ],
 "metadata": {
  "kernelspec": {
   "display_name": "Python 3 (ipykernel)",
   "language": "python",
   "name": "python3"
  },
  "language_info": {
   "codemirror_mode": {
    "name": "ipython",
    "version": 3
   },
   "file_extension": ".py",
   "mimetype": "text/x-python",
   "name": "python",
   "nbconvert_exporter": "python",
   "pygments_lexer": "ipython3",
   "version": "3.10.6"
  }
 },
 "nbformat": 4,
 "nbformat_minor": 5
}
