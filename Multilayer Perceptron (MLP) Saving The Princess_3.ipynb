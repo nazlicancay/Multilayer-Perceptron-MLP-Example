{
 "cells": [
  {
   "cell_type": "code",
   "execution_count": 29,
   "id": "4cb38d59",
   "metadata": {},
   "outputs": [],
   "source": [
    "import torch\n",
    "import torch.nn as nn\n",
    "from sklearn.metrics import f1_score, precision_score, recall_score\n",
    "import torch.optim as optim\n",
    "from torch.utils.data import Dataset, DataLoader\n",
    "import pandas as pd\n",
    "import numpy as np"
   ]
  },
  {
   "cell_type": "code",
   "execution_count": 30,
   "id": "9c7da7f4",
   "metadata": {},
   "outputs": [],
   "source": [
    "# Veri yüklemek için sınıf oluşturuyoruz"
   ]
  },
  {
   "cell_type": "code",
   "execution_count": 31,
   "id": "13d3e621",
   "metadata": {},
   "outputs": [],
   "source": [
    "class MyDataset(Dataset):\n",
    "    def __init__(self, file_path):\n",
    "        self.data = pd.read_csv(file_path)\n",
    "        self.x = np.array(self.data.iloc[:, :-1])\n",
    "        self.y = np.array(self.data.iloc[:, -1])\n",
    "        \n",
    "    def __getitem__(self, index):\n",
    "        return torch.tensor(self.x[index], dtype=torch.float32), torch.tensor(self.y[index], dtype=torch.long)\n",
    "        \n",
    "    def __len__(self):\n",
    "        return len(self.data)\n"
   ]
  },
  {
   "cell_type": "code",
   "execution_count": 32,
   "id": "e7d74c60",
   "metadata": {},
   "outputs": [],
   "source": [
    "# Veri yüklemek"
   ]
  },
  {
   "cell_type": "code",
   "execution_count": 33,
   "id": "76cb0413",
   "metadata": {},
   "outputs": [],
   "source": [
    "train_dataset = MyDataset('cure_the_princess_train.csv')\n",
    "val_dataset = MyDataset('cure_the_princess_validation.csv')\n",
    "test_dataset = MyDataset('cure_the_princess_test.csv')\n"
   ]
  },
  {
   "cell_type": "code",
   "execution_count": 34,
   "id": "03e9cf04",
   "metadata": {},
   "outputs": [],
   "source": [
    "# DataLoader'lar oluşturma"
   ]
  },
  {
   "cell_type": "code",
   "execution_count": 35,
   "id": "d426ae2b",
   "metadata": {},
   "outputs": [],
   "source": [
    "batch_size = 16\n",
    "train_dataloader = DataLoader(train_dataset, batch_size=batch_size, shuffle=True)\n",
    "val_dataloader = DataLoader(val_dataset, batch_size=batch_size, shuffle=False)\n",
    "test_dataloader = DataLoader(test_dataset, batch_size=batch_size, shuffle=False)"
   ]
  },
  {
   "cell_type": "code",
   "execution_count": 36,
   "id": "38fc04bc",
   "metadata": {},
   "outputs": [],
   "source": [
    "# MLP Modeli oluşturma"
   ]
  },
  {
   "cell_type": "code",
   "execution_count": 47,
   "id": "572dab0a",
   "metadata": {},
   "outputs": [],
   "source": [
    "class MLP(nn.Module):\n",
    "    def __init__(self):\n",
    "        super(MLP, self).__init__()\n",
    "        self.fc1 = nn.Linear(13, 100)\n",
    "        self.fc2 = nn.Linear(100, 50)\n",
    "        self.fc3 = nn.Linear(50, 2)\n",
    "        \n",
    "    def forward(self, x):\n",
    "        x = nn.functional.relu(self.fc1(x))\n",
    "        x = nn.functional.relu(self.fc2(x))\n",
    "        x = self.fc3(x)\n",
    "        return x\n"
   ]
  },
  {
   "cell_type": "code",
   "execution_count": 48,
   "id": "48fa8145",
   "metadata": {},
   "outputs": [],
   "source": [
    "# MLP Modeli, Cross Entropy Loss ve SGD Optimizasyonu oluşturma"
   ]
  },
  {
   "cell_type": "code",
   "execution_count": 49,
   "id": "392ce35e",
   "metadata": {},
   "outputs": [],
   "source": [
    "model = MLP()\n",
    "loss_fn = nn.CrossEntropyLoss()\n",
    "optimizer = optim.SGD(model.parameters(), lr=0.01)"
   ]
  },
  {
   "cell_type": "code",
   "execution_count": 50,
   "id": "18b90136",
   "metadata": {},
   "outputs": [],
   "source": [
    "# Eğitim Fonksiyonunu tanımlama"
   ]
  },
  {
   "cell_type": "code",
   "execution_count": 51,
   "id": "8bdfd751",
   "metadata": {},
   "outputs": [],
   "source": [
    "def train(model, train_dataloader, optimizer, loss_fn):\n",
    "    model.train()\n",
    "    for batch, (data, target) in enumerate(train_dataloader):\n",
    "        optimizer.zero_grad()\n",
    "        output = model(data)\n",
    "        loss = loss_fn(output, target)\n",
    "        loss.backward()\n",
    "        optimizer.step()\n"
   ]
  },
  {
   "cell_type": "code",
   "execution_count": 52,
   "id": "28775ae8",
   "metadata": {},
   "outputs": [],
   "source": [
    "# Doğrulama Fonksiyonunu tanımlama"
   ]
  },
  {
   "cell_type": "code",
   "execution_count": 53,
   "id": "7305b6a4",
   "metadata": {},
   "outputs": [],
   "source": [
    "def evaluate(model, val_dataloader):\n",
    "    model.eval()\n",
    "    correct = 0\n",
    "    total = 0\n",
    "    with torch.no_grad():\n",
    "        for data, target in val_dataloader:\n",
    "            output = model(data)\n",
    "            _, predicted = torch.max(output.data, 1)\n",
    "            total += target.size(0)\n",
    "            correct += (predicted == target).sum().item()\n",
    "    return 100 * correct / total\n"
   ]
  },
  {
   "cell_type": "code",
   "execution_count": 54,
   "id": "b6be3289",
   "metadata": {},
   "outputs": [],
   "source": [
    "# Early stopping ile en iyi modeli seçme"
   ]
  },
  {
   "cell_type": "code",
   "execution_count": 55,
   "id": "9324ddf6",
   "metadata": {},
   "outputs": [
    {
     "name": "stdout",
     "output_type": "stream",
     "text": [
      "Epoch: 1 | Validation Accuracy: 64.01273885350318\n",
      "Epoch: 2 | Validation Accuracy: 89.49044585987261\n",
      "Epoch: 3 | Validation Accuracy: 80.89171974522293\n",
      "Epoch: 4 | Validation Accuracy: 92.99363057324841\n",
      "Epoch: 5 | Validation Accuracy: 92.99363057324841\n",
      "Epoch: 6 | Validation Accuracy: 81.21019108280255\n",
      "Epoch: 7 | Validation Accuracy: 77.70700636942675\n",
      "Early stopping.\n",
      "Test Accuracy: 90.41450777202073\n"
     ]
    }
   ],
   "source": [
    "# Early stopping yapalım\n",
    "best_val_acc = 0\n",
    "patience = 3\n",
    "counter = 0\n",
    "for epoch in range(10):\n",
    "    train(model, train_dataloader, optimizer, loss_fn)\n",
    "    val_acc = evaluate(model, val_dataloader)\n",
    "    print('Epoch:', epoch+1, '| Validation Accuracy:', val_acc)\n",
    "    if val_acc > best_val_acc:\n",
    "        best_val_acc = val_acc\n",
    "        torch.save(model.state_dict(), 'best_model.pt')\n",
    "        counter = 0\n",
    "    else:\n",
    "        counter += 1\n",
    "        if counter >= patience:\n",
    "            print('Early stopping.')\n",
    "            break\n",
    "            \n",
    "# En iyi modeli yükleyelim\n",
    "model.load_state_dict(torch.load('best_model.pt'))\n",
    "\n",
    "# Test verisi üzerinde modelin doğruluğunu hesaplayalım\n",
    "test_acc = evaluate(model, test_dataloader)\n",
    "print('Test Accuracy:', test_acc)\n"
   ]
  },
  {
   "cell_type": "code",
   "execution_count": 56,
   "id": "c52b2d85",
   "metadata": {},
   "outputs": [
    {
     "name": "stdout",
     "output_type": "stream",
     "text": [
      "              precision    recall  f1-score   support\n",
      "\n",
      "   not_cured       0.94      0.86      0.90       384\n",
      "       cured       0.88      0.94      0.91       388\n",
      "\n",
      "    accuracy                           0.90       772\n",
      "   macro avg       0.91      0.90      0.90       772\n",
      "weighted avg       0.91      0.90      0.90       772\n",
      "\n"
     ]
    }
   ],
   "source": [
    "# F1, Precision ve Recall değerlerini hesaplayalım\n",
    "model.eval()\n",
    "y_true = []\n",
    "y_pred = []\n",
    "with torch.no_grad():\n",
    "    for data, target in test_dataloader:\n",
    "        output = model(data)\n",
    "        _, predicted = torch.max(output.data, 1)\n",
    "        y_true += target.numpy().tolist()\n",
    "        y_pred += predicted.numpy().tolist()\n",
    "from sklearn.metrics import classification_report\n",
    "target_names = ['not_cured', 'cured']\n",
    "print(classification_report(y_true, y_pred, target_names=target_names))"
   ]
  }
 ],
 "metadata": {
  "kernelspec": {
   "display_name": "Python 3 (ipykernel)",
   "language": "python",
   "name": "python3"
  },
  "language_info": {
   "codemirror_mode": {
    "name": "ipython",
    "version": 3
   },
   "file_extension": ".py",
   "mimetype": "text/x-python",
   "name": "python",
   "nbconvert_exporter": "python",
   "pygments_lexer": "ipython3",
   "version": "3.10.6"
  }
 },
 "nbformat": 4,
 "nbformat_minor": 5
}
