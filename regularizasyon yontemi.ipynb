{
 "cells": [
  {
   "cell_type": "code",
   "execution_count": 34,
   "id": "87ebaca9",
   "metadata": {},
   "outputs": [],
   "source": [
    "import torch\n",
    "import torch.nn as nn\n",
    "from sklearn.metrics import f1_score, precision_score, recall_score\n",
    "import torch.optim as optim\n",
    "from torch.utils.data import Dataset, DataLoader\n",
    "import pandas as pd\n",
    "import numpy as np"
   ]
  },
  {
   "cell_type": "code",
   "execution_count": 35,
   "id": "8b50e5f7",
   "metadata": {},
   "outputs": [],
   "source": [
    "class MyDataset(Dataset):\n",
    "    def __init__(self, file_path):\n",
    "        self.data = pd.read_csv(file_path)\n",
    "        self.x = np.array(self.data.iloc[:, :-1])\n",
    "        self.y = np.array(self.data.iloc[:, -1])\n",
    "        \n",
    "    def __getitem__(self, index):\n",
    "        return torch.tensor(self.x[index], dtype=torch.float32), torch.tensor(self.y[index], dtype=torch.long)\n",
    "        \n",
    "    def __len__(self):\n",
    "        return len(self.data)\n"
   ]
  },
  {
   "cell_type": "code",
   "execution_count": 36,
   "id": "9ebb9cf1",
   "metadata": {},
   "outputs": [],
   "source": [
    "model = MLP()\n",
    "loss_fn = nn.CrossEntropyLoss()\n",
    "optimizer = optim.SGD(model.parameters(), lr=0.01)"
   ]
  },
  {
   "cell_type": "code",
   "execution_count": 37,
   "id": "f8b02ac9",
   "metadata": {},
   "outputs": [],
   "source": [
    "# L2 Regülerizasyonu (Weight Decay):\n"
   ]
  },
  {
   "cell_type": "code",
   "execution_count": 38,
   "id": "6dbae3c8",
   "metadata": {},
   "outputs": [],
   "source": [
    "class MLP(nn.Module):\n",
    "    def __init__(self):\n",
    "        super(MLP, self).__init__()\n",
    "        self.fc1 = nn.Linear(13, 100)\n",
    "        self.fc2 = nn.Linear(100, 50)\n",
    "        self.fc3 = nn.Linear(50, 2)\n",
    "        \n",
    "    def forward(self, x):\n",
    "        x = nn.functional.relu(self.fc1(x))\n",
    "        x = nn.functional.relu(self.fc2(x))\n",
    "        x = nn.functional.sigmoid(self.fc3(x))\n",
    "        return x\n",
    "    \n",
    "# L2 Regülerizasyonu\n",
    "l2_reg = 0.01\n",
    "for param in model.parameters():\n",
    "    param.data -= l2_reg * param.data.norm(2)"
   ]
  },
  {
   "cell_type": "code",
   "execution_count": 39,
   "id": "65c29d07",
   "metadata": {},
   "outputs": [],
   "source": [
    "train_dataset = MyDataset('cure_the_princess_train.csv')\n",
    "val_dataset = MyDataset('cure_the_princess_validation.csv')\n",
    "test_dataset = MyDataset('cure_the_princess_test.csv')\n"
   ]
  },
  {
   "cell_type": "code",
   "execution_count": 40,
   "id": "c28b0dc0",
   "metadata": {},
   "outputs": [],
   "source": [
    "batch_size = 16\n",
    "train_dataloader = DataLoader(train_dataset, batch_size=batch_size, shuffle=True)\n",
    "val_dataloader = DataLoader(val_dataset, batch_size=batch_size, shuffle=False)\n",
    "test_dataloader = DataLoader(test_dataset, batch_size=batch_size, shuffle=False)"
   ]
  },
  {
   "cell_type": "code",
   "execution_count": 41,
   "id": "e5ad1aa2",
   "metadata": {},
   "outputs": [],
   "source": [
    "def train(model, train_dataloader, optimizer, loss_fn):\n",
    "    model.train()\n",
    "    for batch, (data, target) in enumerate(train_dataloader):\n",
    "        optimizer.zero_grad()\n",
    "        output = model(data)\n",
    "        loss = loss_fn(output, target)\n",
    "        loss.backward()\n",
    "        optimizer.step()\n"
   ]
  },
  {
   "cell_type": "code",
   "execution_count": 42,
   "id": "d84210df",
   "metadata": {},
   "outputs": [],
   "source": [
    "def evaluate(model, val_dataloader):\n",
    "    model.eval()\n",
    "    correct = 0\n",
    "    total = 0\n",
    "    with torch.no_grad():\n",
    "        for data, target in val_dataloader:\n",
    "            output = model(data)\n",
    "            _, predicted = torch.max(output.data, 1)\n",
    "            total += target.size(0)\n",
    "            correct += (predicted == target).sum().item()\n",
    "    return 100 * correct / total\n"
   ]
  },
  {
   "cell_type": "code",
   "execution_count": 47,
   "id": "56963898",
   "metadata": {},
   "outputs": [],
   "source": [
    "# Test verisi üzerinde modelin doğruluğunu hesaplayalım\n",
    "def evaluate_L2(model, dataloader):\n",
    "    model.eval()\n",
    "    y_true = []\n",
    "    y_pred = []\n",
    "    with torch.no_grad():\n",
    "        for data, target in dataloader:\n",
    "            output = model(data)\n",
    "            _, predicted = torch.max(output.data, 1)\n",
    "            y_true += target.numpy().tolist()\n",
    "            y_pred += predicted.numpy().tolist()\n",
    "    return (100 * np.sum(np.array(y_true) == np.array(y_pred)) / len(y_true),\n",
    "            precision_score(y_true, y_pred),\n",
    "            recall_score(y_true, y_pred),\n",
    "            f1_score(y_true, y_pred))\n"
   ]
  },
  {
   "cell_type": "code",
   "execution_count": 51,
   "id": "26080a20",
   "metadata": {},
   "outputs": [
    {
     "name": "stdout",
     "output_type": "stream",
     "text": [
      "Epoch: 1 | Validation Accuracy: 85.98726114649682\n",
      "Epoch: 2 | Validation Accuracy: 86.62420382165605\n",
      "Epoch: 3 | Validation Accuracy: 87.89808917197452\n",
      "Epoch: 4 | Validation Accuracy: 85.6687898089172\n",
      "Epoch: 5 | Validation Accuracy: 85.98726114649682\n",
      "Epoch: 6 | Validation Accuracy: 87.57961783439491\n",
      "Epoch: 7 | Validation Accuracy: 88.85350318471338\n",
      "Epoch: 8 | Validation Accuracy: 88.21656050955414\n",
      "Epoch: 9 | Validation Accuracy: 87.89808917197452\n",
      "Epoch: 10 | Validation Accuracy: 89.80891719745223\n"
     ]
    }
   ],
   "source": [
    "for epoch in range(10):\n",
    "    train(model, train_dataloader, optimizer, loss_fn)\n",
    "    acc = evaluate(model, val_dataloader)\n",
    "    print('Epoch:', epoch+1, '| Validation Accuracy:', acc)"
   ]
  },
  {
   "cell_type": "code",
   "execution_count": 52,
   "id": "f462d2ff",
   "metadata": {},
   "outputs": [
    {
     "name": "stdout",
     "output_type": "stream",
     "text": [
      "Test Accuracy: 84.4559585492228\n"
     ]
    }
   ],
   "source": [
    "test_acc = evaluate(model, test_dataloader)\n",
    "print('Test Accuracy:', test_acc)"
   ]
  },
  {
   "cell_type": "code",
   "execution_count": 55,
   "id": "ebfdb77a",
   "metadata": {},
   "outputs": [
    {
     "name": "stdout",
     "output_type": "stream",
     "text": [
      "Epoch: 1 | Validation Accuracy: 92.35668789808918\n",
      "Epoch: 2 | Validation Accuracy: 92.67515923566879\n",
      "Epoch: 3 | Validation Accuracy: 92.67515923566879\n",
      "Epoch: 4 | Validation Accuracy: 91.71974522292993\n",
      "Epoch: 5 | Validation Accuracy: 92.03821656050955\n",
      "Early stopping.\n"
     ]
    },
    {
     "data": {
      "text/plain": [
       "<All keys matched successfully>"
      ]
     },
     "execution_count": 55,
     "metadata": {},
     "output_type": "execute_result"
    }
   ],
   "source": [
    "# Early stopping ile en iyi modeli seçme\n",
    "best_val_acc = 0\n",
    "patience = 3\n",
    "counter = 0\n",
    "for epoch in range(10):\n",
    "    train(model, train_dataloader, optimizer, loss_fn)\n",
    "    val_acc = evaluate_L2(model, val_dataloader)[0]\n",
    "    print('Epoch:', epoch+1, '| Validation Accuracy:', val_acc)\n",
    "    if val_acc > best_val_acc:\n",
    "        best_val_acc = val_acc\n",
    "        torch.save(model.state_dict(), 'best_model_L2.pt')\n",
    "        counter = 0\n",
    "    else:\n",
    "        counter += 1\n",
    "        if counter >= patience:\n",
    "            print('Early stopping.')\n",
    "            break\n",
    "\n",
    "# En iyi modeli yükleyelim\n",
    "model.load_state_dict(torch.load('best_model_L2.pt'))\n"
   ]
  },
  {
   "cell_type": "code",
   "execution_count": 57,
   "id": "39f7def8",
   "metadata": {},
   "outputs": [
    {
     "name": "stdout",
     "output_type": "stream",
     "text": [
      "Test Accuracy: 87.56476683937824\n",
      "Test Precision: 0.8578431372549019\n",
      "Test Recall: 0.9020618556701031\n",
      "Test F1-score: 0.879396984924623\n"
     ]
    }
   ],
   "source": [
    "# Test verisi üzerinde modelin doğruluğunu, precision, recall ve f1_score değerlerini hesaplayalım\n",
    "test_acc, test_precision, test_recall, test_f1 = evaluate_L2(model, test_dataloader)\n",
    "print('Test Accuracy:', test_acc)\n",
    "print('Test Precision:', test_precision)\n",
    "print('Test Recall:', test_recall)\n",
    "print('Test F1-score:', test_f1)"
   ]
  },
  {
   "cell_type": "code",
   "execution_count": null,
   "id": "8779f7c3",
   "metadata": {},
   "outputs": [],
   "source": []
  },
  {
   "cell_type": "code",
   "execution_count": null,
   "id": "0261511f",
   "metadata": {},
   "outputs": [],
   "source": [
    "# Dropout Regülerizasyonu"
   ]
  },
  {
   "cell_type": "code",
   "execution_count": 30,
   "id": "e8895304",
   "metadata": {},
   "outputs": [],
   "source": [
    "class MLP(nn.Module):\n",
    "    def __init__(self):\n",
    "        super(MLP, self).__init__()\n",
    "        self.fc1 = nn.Linear(13, 100)\n",
    "        self.dropout1 = nn.Dropout(p=0.5)\n",
    "        self.fc2 = nn.Linear(100, 50)\n",
    "        self.dropout2 = nn.Dropout(p=0.5)\n",
    "        self.fc3 = nn.Linear(50, 2)\n",
    "        \n",
    "    def forward(self, x):\n",
    "        x = nn.functional.relu(self.fc1(x))\n",
    "        x = self.dropout1(x)\n",
    "        x = nn.functional.relu(self.fc2(x))\n",
    "        x = self.dropout2(x)\n",
    "        x = nn.functional.sigmoid(self.fc3(x))\n",
    "        return x"
   ]
  },
  {
   "cell_type": "code",
   "execution_count": 31,
   "id": "b82da3c8",
   "metadata": {},
   "outputs": [
    {
     "name": "stdout",
     "output_type": "stream",
     "text": [
      "Epoch: 1 | Validation Accuracy: 77.38853503184713\n",
      "Epoch: 2 | Validation Accuracy: 80.89171974522293\n",
      "Epoch: 3 | Validation Accuracy: 85.03184713375796\n",
      "Epoch: 4 | Validation Accuracy: 87.57961783439491\n",
      "Epoch: 5 | Validation Accuracy: 89.80891719745223\n",
      "Epoch: 6 | Validation Accuracy: 91.71974522292993\n",
      "Epoch: 7 | Validation Accuracy: 92.03821656050955\n",
      "Epoch: 8 | Validation Accuracy: 89.171974522293\n",
      "Epoch: 9 | Validation Accuracy: 91.0828025477707\n",
      "Epoch: 10 | Validation Accuracy: 91.0828025477707\n"
     ]
    }
   ],
   "source": [
    "for epoch in range(10):\n",
    "    train(model, train_dataloader, optimizer, loss_fn)\n",
    "    acc = evaluate(model, val_dataloader)\n",
    "    print('Epoch:', epoch+1, '| Validation Accuracy:', acc)"
   ]
  },
  {
   "cell_type": "code",
   "execution_count": 32,
   "id": "dcca9eb1",
   "metadata": {},
   "outputs": [
    {
     "name": "stdout",
     "output_type": "stream",
     "text": [
      "Test Accuracy: 88.08290155440415\n"
     ]
    }
   ],
   "source": [
    "test_acc = evaluate(model, test_dataloader)\n",
    "print('Test Accuracy:', test_acc)"
   ]
  },
  {
   "cell_type": "code",
   "execution_count": null,
   "id": "42c19aec",
   "metadata": {},
   "outputs": [],
   "source": []
  }
 ],
 "metadata": {
  "kernelspec": {
   "display_name": "Python 3 (ipykernel)",
   "language": "python",
   "name": "python3"
  },
  "language_info": {
   "codemirror_mode": {
    "name": "ipython",
    "version": 3
   },
   "file_extension": ".py",
   "mimetype": "text/x-python",
   "name": "python",
   "nbconvert_exporter": "python",
   "pygments_lexer": "ipython3",
   "version": "3.10.6"
  }
 },
 "nbformat": 4,
 "nbformat_minor": 5
}
