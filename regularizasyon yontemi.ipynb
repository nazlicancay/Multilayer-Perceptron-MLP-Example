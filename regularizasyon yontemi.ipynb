{
 "cells": [
  {
   "cell_type": "code",
   "execution_count": 34,
   "id": "624de48e",
   "metadata": {},
   "outputs": [],
   "source": [
    "import torch\n",
    "import torch.nn as nn\n",
    "from sklearn.metrics import f1_score, precision_score, recall_score\n",
    "import torch.optim as optim\n",
    "from torch.utils.data import Dataset, DataLoader\n",
    "import pandas as pd\n",
    "import numpy as np"
   ]
  },
  {
   "cell_type": "code",
   "execution_count": 35,
   "id": "8820cb93",
   "metadata": {},
   "outputs": [],
   "source": [
    "class MyDataset(Dataset):\n",
    "    def __init__(self, file_path):\n",
    "        self.data = pd.read_csv(file_path)\n",
    "        self.x = np.array(self.data.iloc[:, :-1])\n",
    "        self.y = np.array(self.data.iloc[:, -1])\n",
    "        \n",
    "    def __getitem__(self, index):\n",
    "        return torch.tensor(self.x[index], dtype=torch.float32), torch.tensor(self.y[index], dtype=torch.long)\n",
    "        \n",
    "    def __len__(self):\n",
    "        return len(self.data)\n"
   ]
  },
  {
   "cell_type": "code",
   "execution_count": 36,
   "id": "1d2218e2",
   "metadata": {},
   "outputs": [],
   "source": [
    "model = MLP()\n",
    "loss_fn = nn.CrossEntropyLoss()\n",
    "optimizer = optim.SGD(model.parameters(), lr=0.01)"
   ]
  },
  {
   "cell_type": "code",
   "execution_count": 37,
   "id": "de85a55b",
   "metadata": {},
   "outputs": [],
   "source": [
    "# L2 Regülerizasyonu (Weight Decay):\n"
   ]
  },
  {
   "cell_type": "code",
   "execution_count": 38,
   "id": "1fff9b0d",
   "metadata": {},
   "outputs": [],
   "source": [
    "class MLP(nn.Module):\n",
    "    def __init__(self):\n",
    "        super(MLP, self).__init__()\n",
    "        self.fc1 = nn.Linear(13, 100)\n",
    "        self.fc2 = nn.Linear(100, 50)\n",
    "        self.fc3 = nn.Linear(50, 2)\n",
    "        \n",
    "    def forward(self, x):\n",
    "        x = nn.functional.relu(self.fc1(x))\n",
    "        x = nn.functional.relu(self.fc2(x))\n",
    "        x = nn.functional.sigmoid(self.fc3(x))\n",
    "        return x\n",
    "    \n",
    "# L2 Regülerizasyonu\n",
    "l2_reg = 0.01\n",
    "for param in model.parameters():\n",
    "    param.data -= l2_reg * param.data.norm(2)"
   ]
  },
  {
   "cell_type": "code",
   "execution_count": 39,
   "id": "7bf7921d",
   "metadata": {},
   "outputs": [],
   "source": [
    "train_dataset = MyDataset('cure_the_princess_train.csv')\n",
    "val_dataset = MyDataset('cure_the_princess_validation.csv')\n",
    "test_dataset = MyDataset('cure_the_princess_test.csv')\n"
   ]
  },
  {
   "cell_type": "code",
   "execution_count": 40,
   "id": "7a3f96e8",
   "metadata": {},
   "outputs": [],
   "source": [
    "batch_size = 16\n",
    "train_dataloader = DataLoader(train_dataset, batch_size=batch_size, shuffle=True)\n",
    "val_dataloader = DataLoader(val_dataset, batch_size=batch_size, shuffle=False)\n",
    "test_dataloader = DataLoader(test_dataset, batch_size=batch_size, shuffle=False)"
   ]
  },
  {
   "cell_type": "code",
   "execution_count": 41,
   "id": "00fa4c06",
   "metadata": {},
   "outputs": [],
   "source": [
    "def train(model, train_dataloader, optimizer, loss_fn):\n",
    "    model.train()\n",
    "    for batch, (data, target) in enumerate(train_dataloader):\n",
    "        optimizer.zero_grad()\n",
    "        output = model(data)\n",
    "        loss = loss_fn(output, target)\n",
    "        loss.backward()\n",
    "        optimizer.step()\n"
   ]
  },
  {
   "cell_type": "code",
   "execution_count": 42,
   "id": "b6a2f7e9",
   "metadata": {},
   "outputs": [],
   "source": [
    "def evaluate(model, val_dataloader):\n",
    "    model.eval()\n",
    "    correct = 0\n",
    "    total = 0\n",
    "    with torch.no_grad():\n",
    "        for data, target in val_dataloader:\n",
    "            output = model(data)\n",
    "            _, predicted = torch.max(output.data, 1)\n",
    "            total += target.size(0)\n",
    "            correct += (predicted == target).sum().item()\n",
    "    return 100 * correct / total\n"
   ]
  },
  {
   "cell_type": "code",
   "execution_count": 47,
   "id": "6f4c06ba",
   "metadata": {},
   "outputs": [],
   "source": [
    "# Test verisi üzerinde modelin doğruluğunu hesaplayalım\n",
    "def evaluate_L2(model, dataloader):\n",
    "    model.eval()\n",
    "    y_true = []\n",
    "    y_pred = []\n",
    "    with torch.no_grad():\n",
    "        for data, target in dataloader:\n",
    "            output = model(data)\n",
    "            _, predicted = torch.max(output.data, 1)\n",
    "            y_true += target.numpy().tolist()\n",
    "            y_pred += predicted.numpy().tolist()\n",
    "    return (100 * np.sum(np.array(y_true) == np.array(y_pred)) / len(y_true),\n",
    "            precision_score(y_true, y_pred),\n",
    "            recall_score(y_true, y_pred),\n",
    "            f1_score(y_true, y_pred))\n"
   ]
  },
  {
   "cell_type": "code",
   "execution_count": 51,
   "id": "14e3d44f",
   "metadata": {},
   "outputs": [
    {
     "name": "stdout",
     "output_type": "stream",
     "text": [
      "Epoch: 1 | Validation Accuracy: 85.98726114649682\n",
      "Epoch: 2 | Validation Accuracy: 86.62420382165605\n",
      "Epoch: 3 | Validation Accuracy: 87.89808917197452\n",
      "Epoch: 4 | Validation Accuracy: 85.6687898089172\n",
      "Epoch: 5 | Validation Accuracy: 85.98726114649682\n",
      "Epoch: 6 | Validation Accuracy: 87.57961783439491\n",
      "Epoch: 7 | Validation Accuracy: 88.85350318471338\n",
      "Epoch: 8 | Validation Accuracy: 88.21656050955414\n",
      "Epoch: 9 | Validation Accuracy: 87.89808917197452\n",
      "Epoch: 10 | Validation Accuracy: 89.80891719745223\n"
     ]
    }
   ],
   "source": [
    "for epoch in range(10):\n",
    "    train(model, train_dataloader, optimizer, loss_fn)\n",
    "    acc = evaluate(model, val_dataloader)\n",
    "    print('Epoch:', epoch+1, '| Validation Accuracy:', acc)"
   ]
  },
  {
   "cell_type": "code",
   "execution_count": 52,
   "id": "4aca646c",
   "metadata": {},
   "outputs": [
    {
     "name": "stdout",
     "output_type": "stream",
     "text": [
      "Test Accuracy: 84.4559585492228\n"
     ]
    }
   ],
   "source": [
    "test_acc = evaluate(model, test_dataloader)\n",
    "print('Test Accuracy:', test_acc)"
   ]
  },
  {
   "cell_type": "code",
   "execution_count": 55,
   "id": "96dd4e67",
   "metadata": {},
   "outputs": [
    {
     "name": "stdout",
     "output_type": "stream",
     "text": [
      "Epoch: 1 | Validation Accuracy: 92.35668789808918\n",
      "Epoch: 2 | Validation Accuracy: 92.67515923566879\n",
      "Epoch: 3 | Validation Accuracy: 92.67515923566879\n",
      "Epoch: 4 | Validation Accuracy: 91.71974522292993\n",
      "Epoch: 5 | Validation Accuracy: 92.03821656050955\n",
      "Early stopping.\n"
     ]
    },
    {
     "data": {
      "text/plain": [
       "<All keys matched successfully>"
      ]
     },
     "execution_count": 55,
     "metadata": {},
     "output_type": "execute_result"
    }
   ],
   "source": [
    "# Early stopping ile en iyi modeli seçme\n",
    "best_val_acc = 0\n",
    "patience = 3\n",
    "counter = 0\n",
    "for epoch in range(10):\n",
    "    train(model, train_dataloader, optimizer, loss_fn)\n",
    "    val_acc = evaluate_L2(model, val_dataloader)[0]\n",
    "    print('Epoch:', epoch+1, '| Validation Accuracy:', val_acc)\n",
    "    if val_acc > best_val_acc:\n",
    "        best_val_acc = val_acc\n",
    "        torch.save(model.state_dict(), 'best_model_L2.pt')\n",
    "        counter = 0\n",
    "    else:\n",
    "        counter += 1\n",
    "        if counter >= patience:\n",
    "            print('Early stopping.')\n",
    "            break\n",
    "\n",
    "# En iyi modeli yükleyelim\n",
    "model.load_state_dict(torch.load('best_model_L2.pt'))\n"
   ]
  },
  {
   "cell_type": "code",
   "execution_count": 57,
   "id": "72197db5",
   "metadata": {},
   "outputs": [
    {
     "name": "stdout",
     "output_type": "stream",
     "text": [
      "Test Accuracy: 87.56476683937824\n",
      "Test Precision: 0.8578431372549019\n",
      "Test Recall: 0.9020618556701031\n",
      "Test F1-score: 0.879396984924623\n"
     ]
    }
   ],
   "source": [
    "# Test verisi üzerinde modelin doğruluğunu, precision, recall ve f1_score değerlerini hesaplayalım\n",
    "test_acc, test_precision, test_recall, test_f1 = evaluate_L2(model, test_dataloader)\n",
    "print('Test Accuracy:', test_acc)\n",
    "print('Test Precision:', test_precision)\n",
    "print('Test Recall:', test_recall)\n",
    "print('Test F1-score:', test_f1)"
   ]
  },
  {
   "cell_type": "code",
   "execution_count": null,
   "id": "5cb6c011",
   "metadata": {},
   "outputs": [],
   "source": []
  },
  {
   "cell_type": "code",
   "execution_count": 58,
   "id": "95b5a888",
   "metadata": {},
   "outputs": [],
   "source": [
    "# Dropout Regülerizasyonu"
   ]
  },
  {
   "cell_type": "code",
   "execution_count": 59,
   "id": "12776df3",
   "metadata": {},
   "outputs": [],
   "source": [
    "class MLP(nn.Module):\n",
    "    def __init__(self):\n",
    "        super(MLP, self).__init__()\n",
    "        self.fc1 = nn.Linear(13, 100)\n",
    "        self.dropout1 = nn.Dropout(p=0.5)\n",
    "        self.fc2 = nn.Linear(100, 50)\n",
    "        self.dropout2 = nn.Dropout(p=0.5)\n",
    "        self.fc3 = nn.Linear(50, 2)\n",
    "        \n",
    "    def forward(self, x):\n",
    "        x = nn.functional.relu(self.fc1(x))\n",
    "        x = self.dropout1(x)\n",
    "        x = nn.functional.relu(self.fc2(x))\n",
    "        x = self.dropout2(x)\n",
    "        x = nn.functional.sigmoid(self.fc3(x))\n",
    "        return x"
   ]
  },
  {
   "cell_type": "code",
   "execution_count": 61,
   "id": "71b74b3b",
   "metadata": {},
   "outputs": [],
   "source": [
    "# Model, Loss ve Optimizer\n",
    "model_dropout = MLP()\n",
    "loss_fn = nn.CrossEntropyLoss()\n",
    "optimizer_dropout = optim.SGD(model_dropout.parameters(), lr=0.01)\n"
   ]
  },
  {
   "cell_type": "code",
   "execution_count": 62,
   "id": "78802a1b",
   "metadata": {},
   "outputs": [],
   "source": [
    "# Eğitim fonksiyonu\n",
    "def train(model, train_dataloader, optimizer, loss_fn):\n",
    "    model.train()\n",
    "    for batch, (data, target) in enumerate(train_dataloader):\n",
    "        optimizer.zero_grad()\n",
    "        output = model(data)\n",
    "        loss = loss_fn(output, target)\n",
    "        loss.backward()\n",
    "        optimizer.step()\n"
   ]
  },
  {
   "cell_type": "code",
   "execution_count": 63,
   "id": "4f506284",
   "metadata": {},
   "outputs": [],
   "source": [
    "# Doğrulama fonksiyonu\n",
    "def evaluate(model, dataloader):\n",
    "    model.eval()\n",
    "    y_true = []\n",
    "    y_pred = []\n",
    "    with torch.no_grad():\n",
    "        for data, target in dataloader:\n",
    "            output = model(data)\n",
    "            _, predicted = torch.max(output.data, 1)\n",
    "            y_true += target.numpy().tolist()\n",
    "            y_pred += predicted.numpy().tolist()\n",
    "    accuracy = (np.array(y_true) == np.array(y_pred)).mean() * 100\n",
    "    f1 = f1_score(y_true, y_pred, average='weighted') * 100\n",
    "    precision = precision_score(y_true, y_pred, average='weighted') * 100\n",
    "    recall = recall_score(y_true, y_pred, average='weighted') * 100\n",
    "    return accuracy, f1, precision, recall\n"
   ]
  },
  {
   "cell_type": "code",
   "execution_count": 64,
   "id": "df2d6d41",
   "metadata": {},
   "outputs": [
    {
     "name": "stdout",
     "output_type": "stream",
     "text": [
      "Epoch: 1 | Validation Accuracy: 58.28025477707006 | Validation F1: 54.90371828383296 | Validation Precision: 62.12323085323293 | Validation Recall: 58.28025477707006\n",
      "Epoch: 2 | Validation Accuracy: 53.82165605095541 | Validation F1: 43.50534586935888 | Validation Precision: 63.00431765862423 | Validation Recall: 53.82165605095541\n",
      "Epoch: 3 | Validation Accuracy: 73.24840764331209 | Validation F1: 73.23537927041112 | Validation Precision: 73.31759101030501 | Validation Recall: 73.24840764331209\n",
      "Epoch: 4 | Validation Accuracy: 60.509554140127385 | Validation F1: 56.334728148468805 | Validation Precision: 66.61617934700837 | Validation Recall: 60.509554140127385\n",
      "Epoch: 5 | Validation Accuracy: 71.01910828025477 | Validation F1: 70.13516545907412 | Validation Precision: 73.66516211074709 | Validation Recall: 71.01910828025477\n",
      "Epoch: 6 | Validation Accuracy: 73.24840764331209 | Validation F1: 72.8291901458672 | Validation Precision: 74.65597164051846 | Validation Recall: 73.24840764331209\n",
      "Early stopping.\n"
     ]
    },
    {
     "data": {
      "text/plain": [
       "<All keys matched successfully>"
      ]
     },
     "execution_count": 64,
     "metadata": {},
     "output_type": "execute_result"
    }
   ],
   "source": [
    "# Early stopping ile en iyi modeli seçme\n",
    "best_val_acc = 0\n",
    "patience = 3\n",
    "counter = 0\n",
    "for epoch in range(10):\n",
    "    train(model_dropout, train_dataloader, optimizer_dropout, loss_fn)\n",
    "    val_acc, val_f1, val_precision, val_recall = evaluate(model_dropout, val_dataloader)\n",
    "    print('Epoch:', epoch+1, '| Validation Accuracy:', val_acc, '| Validation F1:', val_f1, '| Validation Precision:', val_precision, '| Validation Recall:', val_recall)\n",
    "    if val_acc > best_val_acc:\n",
    "        best_val_acc = val_acc\n",
    "        torch.save(model_dropout.state_dict(), 'best_model_dropout.pt')\n",
    "        counter = 0\n",
    "    else:\n",
    "        counter += 1\n",
    "        if counter >= patience:\n",
    "            print('Early stopping.')\n",
    "            break\n",
    "\n",
    "# En iyi modeli yükleyelim\n",
    "model_dropout.load_state_dict(torch.load('best_model_dropout.pt'))\n"
   ]
  },
  {
   "cell_type": "code",
   "execution_count": 65,
   "id": "a300c37a",
   "metadata": {},
   "outputs": [
    {
     "name": "stdout",
     "output_type": "stream",
     "text": [
      "Test Accuracy: 67.09844559585493 | Test F1: 66.85631294439585 | Test Precision: 67.5535329451144 | Test Recall: 67.09844559585493\n"
     ]
    }
   ],
   "source": [
    "\n",
    "# Test verisi üzerinde modelin doğruluğunu hesaplayalım\n",
    "test_acc, test_f1, test_precision, test_recall = evaluate(model_dropout, test_dataloader)\n",
    "print('Test Accuracy:', test_acc, '| Test F1:', test_f1, '| Test Precision:', test_precision, '| Test Recall:', test_recall)"
   ]
  },
  {
   "cell_type": "code",
   "execution_count": 66,
   "id": "5154577c",
   "metadata": {},
   "outputs": [
    {
     "name": "stdout",
     "output_type": "stream",
     "text": [
      "Epoch: 1 | Validation Accuracy: (92.35668789808918, 92.35668789808918, 92.36418194936297, 92.35668789808918)\n",
      "Epoch: 2 | Validation Accuracy: (92.67515923566879, 92.67047654651385, 92.81844219133151, 92.67515923566879)\n",
      "Epoch: 3 | Validation Accuracy: (92.67515923566879, 92.67493634094338, 92.6765936166171, 92.67515923566879)\n",
      "Epoch: 4 | Validation Accuracy: (92.67515923566879, 92.66452250320573, 92.9733565358428, 92.67515923566879)\n",
      "Epoch: 5 | Validation Accuracy: (92.99363057324841, 92.99306205901385, 93.0226859128133, 92.99363057324841)\n",
      "Epoch: 6 | Validation Accuracy: (93.31210191082803, 93.31108434795121, 93.35741681515216, 93.31210191082803)\n",
      "Epoch: 7 | Validation Accuracy: (92.99363057324841, 92.99192482293151, 93.05819396332303, 92.99363057324841)\n",
      "Epoch: 8 | Validation Accuracy: (93.31210191082803, 93.31189841476566, 93.32873297641801, 93.31210191082803)\n",
      "Epoch: 9 | Validation Accuracy: (92.67515923566879, 92.67404458114093, 92.68985910620134, 92.67515923566879)\n",
      "Epoch: 10 | Validation Accuracy: (92.99363057324841, 92.99363057324841, 93.00117630763442, 92.99363057324841)\n"
     ]
    }
   ],
   "source": [
    "for epoch in range(10):\n",
    "    train(model, train_dataloader, optimizer, loss_fn)\n",
    "    acc = evaluate(model, val_dataloader)\n",
    "    print('Epoch:', epoch+1, '| Validation Accuracy:', acc)"
   ]
  },
  {
   "cell_type": "code",
   "execution_count": 32,
   "id": "5f9e3d97",
   "metadata": {},
   "outputs": [
    {
     "name": "stdout",
     "output_type": "stream",
     "text": [
      "Test Accuracy: 88.08290155440415\n"
     ]
    }
   ],
   "source": [
    "test_acc = evaluate(model, test_dataloader)\n",
    "print('Test Accuracy:', test_acc)"
   ]
  },
  {
   "cell_type": "code",
   "execution_count": null,
   "id": "0b037c28",
   "metadata": {},
   "outputs": [],
   "source": []
  }
 ],
 "metadata": {
  "kernelspec": {
   "display_name": "Python 3 (ipykernel)",
   "language": "python",
   "name": "python3"
  },
  "language_info": {
   "codemirror_mode": {
    "name": "ipython",
    "version": 3
   },
   "file_extension": ".py",
   "mimetype": "text/x-python",
   "name": "python",
   "nbconvert_exporter": "python",
   "pygments_lexer": "ipython3",
   "version": "3.10.6"
  }
 },
 "nbformat": 4,
 "nbformat_minor": 5
}
