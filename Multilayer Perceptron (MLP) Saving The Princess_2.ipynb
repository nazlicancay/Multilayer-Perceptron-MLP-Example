{
 "cells": [
  {
   "cell_type": "code",
   "execution_count": 4,
   "id": "2156bb82",
   "metadata": {},
   "outputs": [],
   "source": [
    "# kullanacağımız kütüphaneleri import edelim\n",
    "import torch \n",
    "import torch.nn as nn\n",
    "import torch.optim as optim\n",
    "from torch.utils.data import Dataset, DataLoader\n",
    "import pandas as pd\n",
    "import numpy as np"
   ]
  },
  {
   "cell_type": "code",
   "execution_count": 5,
   "id": "098718ff",
   "metadata": {},
   "outputs": [],
   "source": [
    "# Veri yüklemek için sınıf oluşturuyoruz\n"
   ]
  },
  {
   "cell_type": "code",
   "execution_count": 6,
   "id": "9dd52173",
   "metadata": {},
   "outputs": [],
   "source": [
    "class MyDataset(Dataset):\n",
    "    def __init__(self, file_path):\n",
    "        self.data = pd.read_csv(file_path)\n",
    "        self.x = np.array(self.data.iloc[:, :-1])\n",
    "        self.y = np.array(self.data.iloc[:, -1])\n",
    "        \n",
    "    def __getitem__(self, index):\n",
    "        return torch.tensor(self.x[index], dtype=torch.float32), torch.tensor(self.y[index], dtype=torch.long)\n",
    "        \n",
    "    def __len__(self):\n",
    "        return len(self.data)\n",
    "    "
   ]
  },
  {
   "cell_type": "code",
   "execution_count": 7,
   "id": "a4f98624",
   "metadata": {},
   "outputs": [],
   "source": [
    "# Veri yüklüyoruz "
   ]
  },
  {
   "cell_type": "code",
   "execution_count": 8,
   "id": "922e9801",
   "metadata": {},
   "outputs": [],
   "source": [
    "train_dataset = MyDataset('cure_the_princess_train.csv')\n",
    "val_dataset = MyDataset('cure_the_princess_validation.csv')\n",
    "test_dataset = MyDataset('cure_the_princess_test.csv')"
   ]
  },
  {
   "cell_type": "code",
   "execution_count": 9,
   "id": "75e546d4",
   "metadata": {},
   "outputs": [],
   "source": [
    "# DataLoaderları oluşturalım"
   ]
  },
  {
   "cell_type": "code",
   "execution_count": 10,
   "id": "89991ddb",
   "metadata": {},
   "outputs": [],
   "source": [
    "batch_size = 16\n",
    "train_dataloader = DataLoader(train_dataset, batch_size=batch_size, shuffle=True)\n",
    "val_dataloader = DataLoader(val_dataset, batch_size=batch_size, shuffle=False)\n",
    "test_dataloader = DataLoader(test_dataset, batch_size=batch_size, shuffle=False)\n"
   ]
  },
  {
   "cell_type": "code",
   "execution_count": 11,
   "id": "b052485a",
   "metadata": {},
   "outputs": [],
   "source": [
    "# MLP Modelimizi oluşturalım"
   ]
  },
  {
   "cell_type": "code",
   "execution_count": 12,
   "id": "8c294d25",
   "metadata": {},
   "outputs": [],
   "source": [
    "class MLP(nn.Module):\n",
    "    def __init__(self):\n",
    "        super(MLP, self).__init__()\n",
    "        self.fc1 = nn.Linear(13, 100)\n",
    "        self.fc2 = nn.Linear(100, 50)\n",
    "        self.fc3 = nn.Linear(50, 2)\n",
    "        \n",
    "    def forward(self, x):\n",
    "        x = nn.functional.relu(self.fc1(x))\n",
    "        x = nn.functional.relu(self.fc2(x))\n",
    "        x = nn.functional.sigmoid(self.fc3(x))\n",
    "        return x\n",
    "    "
   ]
  },
  {
   "cell_type": "code",
   "execution_count": 13,
   "id": "5bf1a34e",
   "metadata": {},
   "outputs": [],
   "source": [
    "# MLP Modeli, Cross Entropy Loss ve SGD Optimizasyonunu oluşturalım"
   ]
  },
  {
   "cell_type": "code",
   "execution_count": 14,
   "id": "e6fdbc0f",
   "metadata": {},
   "outputs": [],
   "source": [
    "model = MLP()\n",
    "loss_fn = nn.CrossEntropyLoss()\n",
    "optimizer = optim.SGD(model.parameters(), lr=0.01)"
   ]
  },
  {
   "cell_type": "code",
   "execution_count": 15,
   "id": "6f8b4d08",
   "metadata": {},
   "outputs": [],
   "source": [
    "# Random seed değerini belirleyelim"
   ]
  },
  {
   "cell_type": "code",
   "execution_count": 16,
   "id": "d62ea6ab",
   "metadata": {},
   "outputs": [
    {
     "data": {
      "text/plain": [
       "<torch._C.Generator at 0x111279050>"
      ]
     },
     "execution_count": 16,
     "metadata": {},
     "output_type": "execute_result"
    }
   ],
   "source": [
    "SEED = 190401064\n",
    "torch.manual_seed(SEED)"
   ]
  },
  {
   "cell_type": "code",
   "execution_count": 17,
   "id": "8b3ec6e1",
   "metadata": {},
   "outputs": [],
   "source": [
    "# Eğitim fonksiyonunumuzu tanımlayalım"
   ]
  },
  {
   "cell_type": "code",
   "execution_count": 18,
   "id": "67fd6366",
   "metadata": {},
   "outputs": [],
   "source": [
    "def train(model, train_dataloader, optimizer, loss_fn):\n",
    "    model.train()\n",
    "    train_losses = []\n",
    "    for batch, (data, target) in enumerate(train_dataloader):\n",
    "        optimizer.zero_grad()\n",
    "        output = model(data)\n",
    "        loss = loss_fn(output, target)\n",
    "        loss.backward()\n",
    "        optimizer.step()\n",
    "        train_losses.append(loss.item())\n",
    "    return np.mean(train_losses)\n"
   ]
  },
  {
   "cell_type": "code",
   "execution_count": 19,
   "id": "7f97dc2c",
   "metadata": {},
   "outputs": [],
   "source": [
    "# Doğrulama fonksiyonumuzu tanımlayalım"
   ]
  },
  {
   "cell_type": "code",
   "execution_count": 20,
   "id": "02f34903",
   "metadata": {},
   "outputs": [],
   "source": [
    "def evaluate(model, val_dataloader):\n",
    "    model.eval()\n",
    "    val_losses = []\n",
    "    correct = 0\n",
    "    total = 0\n",
    "    with torch.no_grad():\n",
    "        for data, target in val_dataloader:\n",
    "            output = model(data)\n",
    "            loss = loss_fn(output, target)\n",
    "            val_losses.append(loss.item())\n",
    "            _, predicted = torch.max(output.data, 1)\n",
    "            total += target.size(0)\n",
    "            correct += (predicted == target).sum().item()\n",
    "    return np.mean(val_losses), 100 * correct / total\n"
   ]
  },
  {
   "cell_type": "code",
   "execution_count": 21,
   "id": "38267dca",
   "metadata": {},
   "outputs": [],
   "source": [
    "# Epoch sayısını ve öğrenme oranını belirleyelim"
   ]
  },
  {
   "cell_type": "code",
   "execution_count": 22,
   "id": "0be47a11",
   "metadata": {},
   "outputs": [],
   "source": [
    "num_epochs = 50\n",
    "lr = 0.01"
   ]
  },
  {
   "cell_type": "code",
   "execution_count": 23,
   "id": "138066cc",
   "metadata": {},
   "outputs": [],
   "source": [
    "# Train ve validation loss değerlerini tutmak için listeler oluşturalım"
   ]
  },
  {
   "cell_type": "code",
   "execution_count": 24,
   "id": "368fd061",
   "metadata": {},
   "outputs": [],
   "source": [
    "train_losses = []\n",
    "val_losses = []"
   ]
  },
  {
   "cell_type": "code",
   "execution_count": 31,
   "id": "e261dfec",
   "metadata": {},
   "outputs": [
    {
     "name": "stdout",
     "output_type": "stream",
     "text": [
      "Epoch 1, Train Loss: 0.440, Val Loss: 0.402\n",
      "Epoch 2, Train Loss: 0.435, Val Loss: 0.408\n",
      "Epoch 3, Train Loss: 0.434, Val Loss: 0.400\n",
      "Epoch 4, Train Loss: 0.431, Val Loss: 0.471\n",
      "Epoch 5, Train Loss: 0.432, Val Loss: 0.394\n",
      "Epoch 6, Train Loss: 0.424, Val Loss: 0.443\n",
      "Epoch 7, Train Loss: 0.422, Val Loss: 0.392\n",
      "Epoch 8, Train Loss: 0.422, Val Loss: 0.448\n",
      "Epoch 9, Train Loss: 0.422, Val Loss: 0.392\n",
      "Epoch 10, Train Loss: 0.418, Val Loss: 0.404\n"
     ]
    }
   ],
   "source": [
    "if torch.cuda.is_available():\n",
    "    torch.cuda.manual_seed(SEED)\n",
    "\n",
    "for epoch in range(10):\n",
    "    train_loss = 0\n",
    "    val_loss = 0\n",
    "\n",
    "    # Training loop\n",
    "    model.train()\n",
    "    for batch_idx, (data, target) in enumerate(train_dataloader):\n",
    "        optimizer.zero_grad()\n",
    "        output = model(data)\n",
    "        loss = loss_fn(output, target)\n",
    "        loss.backward()\n",
    "        optimizer.step()\n",
    "\n",
    "        train_loss += loss.item()\n",
    "\n",
    "    # Validation loop\n",
    "    model.eval()\n",
    "    with torch.no_grad():\n",
    "        for batch_idx, (data, target) in enumerate(val_dataloader):\n",
    "            output = model(data)\n",
    "            loss = loss_fn(output, target)\n",
    "\n",
    "            val_loss += loss.item()\n",
    "\n",
    "    # Calculate average losses for this epoch\n",
    "    train_loss /= len(train_dataloader)\n",
    "    val_loss /= len(val_dataloader)\n",
    "    train_losses.append(train_loss)\n",
    "    val_losses.append(val_loss)\n",
    "    # Print progress\n",
    "    print(f\"Epoch {epoch+1}, Train Loss: {train_loss:.3f}, Val Loss: {val_loss:.3f}\")\n"
   ]
  },
  {
   "cell_type": "code",
   "execution_count": null,
   "id": "ced9dc6f",
   "metadata": {},
   "outputs": [],
   "source": []
  },
  {
   "cell_type": "code",
   "execution_count": 32,
   "id": "8fef11b9",
   "metadata": {},
   "outputs": [
    {
     "name": "stdout",
     "output_type": "stream",
     "text": [
      "Test Accuracy: (0.4270390180908904, 88.73056994818653)\n"
     ]
    }
   ],
   "source": [
    "# Test verileri üzerinde doğruluk değerini hesaplama\n",
    "test_acc = evaluate(model, test_dataloader)\n",
    "print('Test Accuracy:', test_acc)"
   ]
  },
  {
   "cell_type": "code",
   "execution_count": 33,
   "id": "85b915cc",
   "metadata": {},
   "outputs": [],
   "source": [
    "# Loss grafiği çizdirme"
   ]
  },
  {
   "cell_type": "code",
   "execution_count": 34,
   "id": "d04092d7",
   "metadata": {},
   "outputs": [
    {
     "data": {
      "image/png": "[encoded data removed]",
      "text/plain": [
       "<Figure size 640x480 with 1 Axes>"
      ]
     },
     "metadata": {},
     "output_type": "display_data"
    }
   ],
   "source": [
    "import matplotlib.pyplot as plt\n",
    "\n",
    "plt.plot(train_losses, label='Training Loss')\n",
    "plt.plot(val_losses, label='Validation Loss')\n",
    "plt.legend()\n",
    "plt.show()"
   ]
  },
  {
   "cell_type": "code",
   "execution_count": null,
   "id": "8d1065e0",
   "metadata": {},
   "outputs": [],
   "source": []
  },
  {
   "cell_type": "code",
   "execution_count": null,
   "id": "bc8dc25e",
   "metadata": {},
   "outputs": [],
   "source": []
  }
 ],
 "metadata": {
  "kernelspec": {
   "display_name": "Python 3 (ipykernel)",
   "language": "python",
   "name": "python3"
  },
  "language_info": {
   "codemirror_mode": {
    "name": "ipython",
    "version": 3
   },
   "file_extension": ".py",
   "mimetype": "text/x-python",
   "name": "python",
   "nbconvert_exporter": "python",
   "pygments_lexer": "ipython3",
   "version": "3.10.6"
  }
 },
 "nbformat": 4,
 "nbformat_minor": 5
}
